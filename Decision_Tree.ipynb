{
  "nbformat": 4,
  "nbformat_minor": 0,
  "metadata": {
    "colab": {
      "provenance": []
    },
    "kernelspec": {
      "name": "python3",
      "display_name": "Python 3"
    },
    "language_info": {
      "name": "python"
    }
  },
  "cells": [
    {
      "cell_type": "code",
      "execution_count": null,
      "metadata": {
        "id": "f989934a"
      },
      "outputs": [],
      "source": [
        "import pandas as pd\n",
        "import numpy as np"
      ]
    },
    {
      "cell_type": "code",
      "execution_count": null,
      "metadata": {
        "id": "54500d4c",
        "outputId": "6cb63136-cd12-413b-9b6b-60838aefc5ad"
      },
      "outputs": [
        {
          "data": {
            "text/html": [
              "<div>\n",
              "<style scoped>\n",
              "    .dataframe tbody tr th:only-of-type {\n",
              "        vertical-align: middle;\n",
              "    }\n",
              "\n",
              "    .dataframe tbody tr th {\n",
              "        vertical-align: top;\n",
              "    }\n",
              "\n",
              "    .dataframe thead th {\n",
              "        text-align: right;\n",
              "    }\n",
              "</style>\n",
              "<table border=\"1\" class=\"dataframe\">\n",
              "  <thead>\n",
              "    <tr style=\"text-align: right;\">\n",
              "      <th></th>\n",
              "      <th>Age</th>\n",
              "      <th>Income</th>\n",
              "      <th>Gender</th>\n",
              "      <th>MaritalStatus</th>\n",
              "      <th>Buys</th>\n",
              "    </tr>\n",
              "  </thead>\n",
              "  <tbody>\n",
              "    <tr>\n",
              "      <th>0</th>\n",
              "      <td>&lt;21</td>\n",
              "      <td>High</td>\n",
              "      <td>Male</td>\n",
              "      <td>Single</td>\n",
              "      <td>No</td>\n",
              "    </tr>\n",
              "    <tr>\n",
              "      <th>1</th>\n",
              "      <td>&lt;21</td>\n",
              "      <td>High</td>\n",
              "      <td>Male</td>\n",
              "      <td>Married</td>\n",
              "      <td>No</td>\n",
              "    </tr>\n",
              "    <tr>\n",
              "      <th>2</th>\n",
              "      <td>21-35</td>\n",
              "      <td>High</td>\n",
              "      <td>Male</td>\n",
              "      <td>Single</td>\n",
              "      <td>Yes</td>\n",
              "    </tr>\n",
              "    <tr>\n",
              "      <th>3</th>\n",
              "      <td>&gt;35</td>\n",
              "      <td>Medium</td>\n",
              "      <td>Male</td>\n",
              "      <td>Single</td>\n",
              "      <td>Yes</td>\n",
              "    </tr>\n",
              "    <tr>\n",
              "      <th>4</th>\n",
              "      <td>&gt;35</td>\n",
              "      <td>Low</td>\n",
              "      <td>Female</td>\n",
              "      <td>Single</td>\n",
              "      <td>Yes</td>\n",
              "    </tr>\n",
              "    <tr>\n",
              "      <th>5</th>\n",
              "      <td>&gt;35</td>\n",
              "      <td>Low</td>\n",
              "      <td>Female</td>\n",
              "      <td>Married</td>\n",
              "      <td>No</td>\n",
              "    </tr>\n",
              "    <tr>\n",
              "      <th>6</th>\n",
              "      <td>21-35</td>\n",
              "      <td>Low</td>\n",
              "      <td>Female</td>\n",
              "      <td>Married</td>\n",
              "      <td>Yes</td>\n",
              "    </tr>\n",
              "    <tr>\n",
              "      <th>7</th>\n",
              "      <td>&lt;21</td>\n",
              "      <td>Medium</td>\n",
              "      <td>Male</td>\n",
              "      <td>Single</td>\n",
              "      <td>No</td>\n",
              "    </tr>\n",
              "    <tr>\n",
              "      <th>8</th>\n",
              "      <td>&lt;21</td>\n",
              "      <td>Low</td>\n",
              "      <td>Female</td>\n",
              "      <td>Married</td>\n",
              "      <td>Yes</td>\n",
              "    </tr>\n",
              "    <tr>\n",
              "      <th>9</th>\n",
              "      <td>&gt;35</td>\n",
              "      <td>Medium</td>\n",
              "      <td>Female</td>\n",
              "      <td>Single</td>\n",
              "      <td>Yes</td>\n",
              "    </tr>\n",
              "    <tr>\n",
              "      <th>10</th>\n",
              "      <td>&lt;21</td>\n",
              "      <td>Medium</td>\n",
              "      <td>Female</td>\n",
              "      <td>Married</td>\n",
              "      <td>Yes</td>\n",
              "    </tr>\n",
              "    <tr>\n",
              "      <th>11</th>\n",
              "      <td>21-35</td>\n",
              "      <td>Medium</td>\n",
              "      <td>Male</td>\n",
              "      <td>Married</td>\n",
              "      <td>Yes</td>\n",
              "    </tr>\n",
              "    <tr>\n",
              "      <th>12</th>\n",
              "      <td>21-35</td>\n",
              "      <td>High</td>\n",
              "      <td>Female</td>\n",
              "      <td>Single</td>\n",
              "      <td>Yes</td>\n",
              "    </tr>\n",
              "    <tr>\n",
              "      <th>13</th>\n",
              "      <td>&gt;35</td>\n",
              "      <td>Medium</td>\n",
              "      <td>Male</td>\n",
              "      <td>Married</td>\n",
              "      <td>No</td>\n",
              "    </tr>\n",
              "  </tbody>\n",
              "</table>\n",
              "</div>"
            ],
            "text/plain": [
              "      Age  Income  Gender MaritalStatus Buys\n",
              "0     <21    High    Male        Single   No\n",
              "1     <21    High    Male       Married   No\n",
              "2   21-35    High    Male        Single  Yes\n",
              "3     >35  Medium    Male        Single  Yes\n",
              "4     >35     Low  Female        Single  Yes\n",
              "5     >35     Low  Female       Married   No\n",
              "6   21-35     Low  Female       Married  Yes\n",
              "7     <21  Medium    Male        Single   No\n",
              "8     <21     Low  Female       Married  Yes\n",
              "9     >35  Medium  Female        Single  Yes\n",
              "10    <21  Medium  Female       Married  Yes\n",
              "11  21-35  Medium    Male       Married  Yes\n",
              "12  21-35    High  Female        Single  Yes\n",
              "13    >35  Medium    Male       Married   No"
            ]
          },
          "execution_count": 356,
          "metadata": {},
          "output_type": "execute_result"
        }
      ],
      "source": [
        "df5=pd.read_csv('cosmetic.csv')\n",
        "df5"
      ]
    },
    {
      "cell_type": "code",
      "execution_count": null,
      "metadata": {
        "id": "565ee537",
        "outputId": "7230bea8-4a44-440a-ec2e-b5fd669c1c29"
      },
      "outputs": [
        {
          "data": {
            "text/html": [
              "<div>\n",
              "<style scoped>\n",
              "    .dataframe tbody tr th:only-of-type {\n",
              "        vertical-align: middle;\n",
              "    }\n",
              "\n",
              "    .dataframe tbody tr th {\n",
              "        vertical-align: top;\n",
              "    }\n",
              "\n",
              "    .dataframe thead th {\n",
              "        text-align: right;\n",
              "    }\n",
              "</style>\n",
              "<table border=\"1\" class=\"dataframe\">\n",
              "  <thead>\n",
              "    <tr style=\"text-align: right;\">\n",
              "      <th></th>\n",
              "      <th>Age</th>\n",
              "      <th>Income</th>\n",
              "      <th>Gender</th>\n",
              "      <th>MaritalStatus</th>\n",
              "      <th>Buys</th>\n",
              "    </tr>\n",
              "  </thead>\n",
              "  <tbody>\n",
              "    <tr>\n",
              "      <th>count</th>\n",
              "      <td>14</td>\n",
              "      <td>14</td>\n",
              "      <td>14</td>\n",
              "      <td>14</td>\n",
              "      <td>14</td>\n",
              "    </tr>\n",
              "    <tr>\n",
              "      <th>unique</th>\n",
              "      <td>3</td>\n",
              "      <td>3</td>\n",
              "      <td>2</td>\n",
              "      <td>2</td>\n",
              "      <td>2</td>\n",
              "    </tr>\n",
              "    <tr>\n",
              "      <th>top</th>\n",
              "      <td>&lt;21</td>\n",
              "      <td>Medium</td>\n",
              "      <td>Male</td>\n",
              "      <td>Single</td>\n",
              "      <td>Yes</td>\n",
              "    </tr>\n",
              "    <tr>\n",
              "      <th>freq</th>\n",
              "      <td>5</td>\n",
              "      <td>6</td>\n",
              "      <td>7</td>\n",
              "      <td>7</td>\n",
              "      <td>9</td>\n",
              "    </tr>\n",
              "  </tbody>\n",
              "</table>\n",
              "</div>"
            ],
            "text/plain": [
              "        Age  Income Gender MaritalStatus Buys\n",
              "count    14      14     14            14   14\n",
              "unique    3       3      2             2    2\n",
              "top     <21  Medium   Male        Single  Yes\n",
              "freq      5       6      7             7    9"
            ]
          },
          "execution_count": 357,
          "metadata": {},
          "output_type": "execute_result"
        }
      ],
      "source": [
        "df5.describe()"
      ]
    },
    {
      "cell_type": "code",
      "execution_count": null,
      "metadata": {
        "id": "c8891dd7",
        "outputId": "45c7f70d-7a9f-4592-f94c-067a5e0b0d1c"
      },
      "outputs": [
        {
          "data": {
            "text/plain": [
              "array(['No', 'No', 'Yes', 'Yes', 'Yes', 'No', 'Yes', 'No', 'Yes', 'Yes',\n",
              "       'Yes', 'Yes', 'Yes', 'No'], dtype=object)"
            ]
          },
          "execution_count": 358,
          "metadata": {},
          "output_type": "execute_result"
        }
      ],
      "source": [
        "df5['Buys'].values"
      ]
    },
    {
      "cell_type": "code",
      "execution_count": null,
      "metadata": {
        "id": "3b403ea6",
        "outputId": "61a26a48-0c5a-4eee-f4ac-707de3ec08a5"
      },
      "outputs": [
        {
          "data": {
            "text/plain": [
              "Yes    9\n",
              "No     5\n",
              "Name: Buys, dtype: int64"
            ]
          },
          "execution_count": 359,
          "metadata": {},
          "output_type": "execute_result"
        }
      ],
      "source": [
        "df5['Buys'].value_counts()"
      ]
    },
    {
      "cell_type": "code",
      "execution_count": null,
      "metadata": {
        "id": "42a2f13d",
        "outputId": "e0ed7055-2d34-4b6c-b1bb-7a6a92368ee9"
      },
      "outputs": [
        {
          "name": "stdout",
          "output_type": "stream",
          "text": [
            "Age:  [('<21', 1), ('<21', 1), ('21-35', 0), ('>35', 2), ('>35', 2), ('>35', 2), ('21-35', 0), ('<21', 1), ('<21', 1), ('>35', 2), ('<21', 1), ('21-35', 0), ('21-35', 0), ('>35', 2)]\n",
            "Income [('High', 0), ('High', 0), ('High', 0), ('Medium', 2), ('Low', 1), ('Low', 1), ('Low', 1), ('Medium', 2), ('Low', 1), ('Medium', 2), ('Medium', 2), ('Medium', 2), ('High', 0), ('Medium', 2)]\n",
            "Gender [('Male', 1), ('Male', 1), ('Male', 1), ('Male', 1), ('Female', 0), ('Female', 0), ('Female', 0), ('Male', 1), ('Female', 0), ('Female', 0), ('Female', 0), ('Male', 1), ('Female', 0), ('Male', 1)]\n",
            "Marital Status [('Single', 1), ('Married', 0), ('Single', 1), ('Single', 1), ('Single', 1), ('Married', 0), ('Married', 0), ('Single', 1), ('Married', 0), ('Single', 1), ('Married', 0), ('Married', 0), ('Single', 1), ('Married', 0)]\n"
          ]
        }
      ],
      "source": [
        "from sklearn.preprocessing import LabelEncoder\n",
        "le=LabelEncoder()\n",
        "\n",
        "x=df5.iloc[:,:-1]\n",
        "\n",
        "x=x.apply(le.fit_transform)\n",
        "\n",
        "print(\"Age: \",list(zip(df5.iloc[:,0],x.iloc[:,0])))\n",
        "print(\"Income\",list(zip(df5.iloc[:,1],x.iloc[:,1])))\n",
        "print(\"Gender\",list(zip(df5.iloc[:,2],x.iloc[:,2])))\n",
        "print(\"Marital Status\",list(zip(df5.iloc[:,3],x.iloc[:,3])))"
      ]
    },
    {
      "cell_type": "code",
      "execution_count": null,
      "metadata": {
        "id": "b69e55d7",
        "outputId": "ce2b1d25-5822-4bbe-f277-ce002ff51226"
      },
      "outputs": [
        {
          "data": {
            "text/plain": [
              "DecisionTreeClassifier()"
            ]
          },
          "execution_count": 360,
          "metadata": {},
          "output_type": "execute_result"
        }
      ],
      "source": [
        "from sklearn.tree import DecisionTreeClassifier\n",
        "classifier=DecisionTreeClassifier(criterion='gini')\n",
        "y=df5.iloc[:,-1]\n",
        "classifier.fit(x,y)"
      ]
    },
    {
      "cell_type": "code",
      "execution_count": null,
      "metadata": {
        "id": "d0532485",
        "outputId": "4383a537-30ea-4d26-f9b0-fcf2ef8e451e"
      },
      "outputs": [
        {
          "name": "stderr",
          "output_type": "stream",
          "text": [
            "C:\\Users\\user\\anaconda3\\lib\\site-packages\\sklearn\\base.py:450: UserWarning: X does not have valid feature names, but DecisionTreeClassifier was fitted with feature names\n",
            "  warnings.warn(\n"
          ]
        },
        {
          "data": {
            "text/plain": [
              "array(['Yes'], dtype=object)"
            ]
          },
          "execution_count": 362,
          "metadata": {},
          "output_type": "execute_result"
        }
      ],
      "source": [
        "y_text=np.array([1,1,0,0])\n",
        "output=classifier.predict([y_text])\n",
        "output"
      ]
    }
  ]
}